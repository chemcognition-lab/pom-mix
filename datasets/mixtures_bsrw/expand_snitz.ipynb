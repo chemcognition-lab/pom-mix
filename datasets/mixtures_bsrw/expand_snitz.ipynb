{
 "cells": [
  {
   "cell_type": "code",
   "execution_count": 1,
   "metadata": {},
   "outputs": [],
   "source": [
    "import pandas as pd\n",
    "import numpy as np"
   ]
  },
  {
   "cell_type": "code",
   "execution_count": 2,
   "metadata": {},
   "outputs": [],
   "source": [
    "snitz_1 = pd.read_csv(\"experiment1_comparisons.csv\")\n",
    "snitz_2 = pd.read_csv(\"experiment2_comparisons.csv\")"
   ]
  },
  {
   "cell_type": "code",
   "execution_count": 3,
   "metadata": {},
   "outputs": [
    {
     "name": "stderr",
     "output_type": "stream",
     "text": [
      "/tmp/ipykernel_684033/2902513835.py:3: SettingWithCopyWarning: \n",
      "A value is trying to be set on a copy of a slice from a DataFrame\n",
      "\n",
      "See the caveats in the documentation: https://pandas.pydata.org/pandas-docs/stable/user_guide/indexing.html#returning-a-view-versus-a-copy\n",
      "  snitz_1_self.drop('Comparison number', inplace=True, axis=1)\n",
      "/tmp/ipykernel_684033/2902513835.py:5: SettingWithCopyWarning: \n",
      "A value is trying to be set on a copy of a slice from a DataFrame.\n",
      "Try using .loc[row_indexer,col_indexer] = value instead\n",
      "\n",
      "See the caveats in the documentation: https://pandas.pydata.org/pandas-docs/stable/user_guide/indexing.html#returning-a-view-versus-a-copy\n",
      "  snitz_1_self['Experimental Values'] = (100-snitz_1_self['Experimental Values'])/100\n"
     ]
    }
   ],
   "source": [
    "snitz_1_self = snitz_1[snitz_1['Mixture Number'] == snitz_1['Mixture Number.1']]\n",
    "snitz_1_self.insert(0, 'Dataset', 'Snitz 1')\n",
    "snitz_1_self.drop('Comparison number', inplace=True, axis=1)\n",
    "snitz_1_self.columns = ['Dataset', 'Mixture 1', 'Mixture 2', 'Experimental Values']\n",
    "snitz_1_self['Experimental Values'] = (100-snitz_1_self['Experimental Values'])/100"
   ]
  },
  {
   "cell_type": "code",
   "execution_count": 4,
   "metadata": {},
   "outputs": [
    {
     "name": "stderr",
     "output_type": "stream",
     "text": [
      "/tmp/ipykernel_684033/3797942367.py:3: SettingWithCopyWarning: \n",
      "A value is trying to be set on a copy of a slice from a DataFrame\n",
      "\n",
      "See the caveats in the documentation: https://pandas.pydata.org/pandas-docs/stable/user_guide/indexing.html#returning-a-view-versus-a-copy\n",
      "  snitz_2_self.drop('Comparison number', inplace=True, axis=1)\n",
      "/tmp/ipykernel_684033/3797942367.py:5: SettingWithCopyWarning: \n",
      "A value is trying to be set on a copy of a slice from a DataFrame.\n",
      "Try using .loc[row_indexer,col_indexer] = value instead\n",
      "\n",
      "See the caveats in the documentation: https://pandas.pydata.org/pandas-docs/stable/user_guide/indexing.html#returning-a-view-versus-a-copy\n",
      "  snitz_2_self['Experimental Values'] = (100-snitz_2_self['Experimental Values'])/100\n"
     ]
    }
   ],
   "source": [
    "snitz_2_self = snitz_2[snitz_2['Mixture number'] == snitz_2['Mixture number.1']]\n",
    "snitz_2_self.insert(0, 'Dataset', 'Snitz 2')\n",
    "snitz_2_self.drop('Comparison number', inplace=True, axis=1)\n",
    "snitz_2_self.columns = ['Dataset', 'Mixture 1', 'Mixture 2', 'Experimental Values']\n",
    "snitz_2_self['Experimental Values'] = (100-snitz_2_self['Experimental Values'])/100"
   ]
  },
  {
   "cell_type": "code",
   "execution_count": 5,
   "metadata": {},
   "outputs": [],
   "source": [
    "snitz_3 = pd.read_csv(\"experiment3_comparisons.csv\")\n",
    "snitz_3.insert(0, 'Dataset', 'Snitz 3')\n",
    "snitz_3.drop('Comparison number', inplace=True, axis=1)\n",
    "snitz_3.columns = ['Dataset', 'Mixture 1', 'Mixture 2', 'Experimental Values']\n",
    "snitz_3['Experimental Values'] = (100-snitz_3['Experimental Values'])/100"
   ]
  },
  {
   "cell_type": "code",
   "execution_count": 6,
   "metadata": {},
   "outputs": [],
   "source": [
    "unique_elements = pd.concat([snitz_3['Mixture 1'], snitz_3['Mixture 2']]).unique()\n",
    "element_to_number = {element: i+1 for i, element in enumerate(unique_elements)}\n",
    "number_to_element = {v: k for k, v in element_to_number.items()}\n",
    "\n",
    "snitz_3['Mixture 1'] = snitz_3['Mixture 1'].map(element_to_number)\n",
    "snitz_3['Mixture 2'] = snitz_3['Mixture 2'].map(element_to_number)"
   ]
  },
  {
   "cell_type": "code",
   "execution_count": 7,
   "metadata": {},
   "outputs": [],
   "source": [
    "molecules = pd.read_csv(\"molecules.csv\")"
   ]
  },
  {
   "cell_type": "code",
   "execution_count": 8,
   "metadata": {},
   "outputs": [],
   "source": [
    "snitz_3_mix_definition = pd.DataFrame()\n",
    "snitz_3_mix_definition['Mixture Label'] = number_to_element.keys()\n",
    "snitz_3_mix_definition['cid_0'] = snitz_3_mix_definition.apply(lambda row: number_to_element[row['Mixture Label']], axis=1)\n",
    "snitz_3_mix_definition['Dataset'] = 'Snitz 3'\n",
    "snitz_3_mix_definition = pd.merge(snitz_3_mix_definition, molecules[['CID', 'IsomericSMILES']], left_on='cid_0', right_on='CID', how='left')\n",
    "snitz_3_mix_definition.drop(['cid_0', 'CID'], inplace=True, axis=1)\n",
    "snitz_3_mix_definition.rename(columns={'IsomericSMILES': 'smi_0'}, inplace=True)\n",
    "for i in range(1, 43):\n",
    "    snitz_3_mix_definition[f'smi_{i}'] = np.nan"
   ]
  },
  {
   "cell_type": "code",
   "execution_count": 9,
   "metadata": {},
   "outputs": [],
   "source": [
    "mixtures_combined = pd.read_csv(\"mixtures_combined.csv\")"
   ]
  },
  {
   "cell_type": "code",
   "execution_count": 10,
   "metadata": {},
   "outputs": [],
   "source": [
    "mixtures_combined = pd.concat([mixtures_combined, snitz_1_self, snitz_2_self, snitz_3])"
   ]
  },
  {
   "cell_type": "code",
   "execution_count": 11,
   "metadata": {},
   "outputs": [],
   "source": [
    "mixtures_combined.to_csv(\"mixtures_combined.csv\", index=False)"
   ]
  },
  {
   "cell_type": "code",
   "execution_count": 12,
   "metadata": {},
   "outputs": [],
   "source": [
    "mixtures_definition = pd.read_csv(\"mixture_smi_definitions_clean.csv\")"
   ]
  },
  {
   "cell_type": "code",
   "execution_count": 13,
   "metadata": {},
   "outputs": [],
   "source": [
    "mixtures_definition = pd.concat([mixtures_definition, snitz_3_mix_definition])"
   ]
  },
  {
   "cell_type": "code",
   "execution_count": 14,
   "metadata": {},
   "outputs": [],
   "source": [
    "mixtures_definition.to_csv(\"mixture_smi_definitions_clean.csv\", index=False)"
   ]
  },
  {
   "cell_type": "code",
   "execution_count": 17,
   "metadata": {},
   "outputs": [],
   "source": [
    "snitz_3 = pd.read_csv(\"experiment3_comparisons.csv\")\n",
    "snitz_3.insert(0, 'Dataset', 'Snitz 3')\n",
    "snitz_3.drop('Comparison number', inplace=True, axis=1)\n",
    "snitz_3.columns = ['Dataset', 'Mixture 1', 'Mixture 2', 'Experimental Values']\n",
    "snitz_3['Experimental Values'] = (100-snitz_3['Experimental Values'])/100\n",
    "snitz_3 = pd.merge(snitz_3, molecules[['CID', 'IsomericSMILES']], left_on='Mixture 1', right_on='CID', how='left')\n",
    "snitz_3['Mixture 1 ID'] = snitz_3['Mixture 1'].map(element_to_number)\n",
    "snitz_3['Mixture 1'] = snitz_3['IsomericSMILES']\n",
    "snitz_3.drop(['CID', 'IsomericSMILES'], axis=1, inplace=True)\n",
    "snitz_3 = pd.merge(snitz_3, molecules[['CID', 'IsomericSMILES']], left_on='Mixture 2', right_on='CID', how='left')\n",
    "snitz_3['Mixture 2 ID'] = snitz_3['Mixture 2'].map(element_to_number)\n",
    "snitz_3['Mixture 2'] = snitz_3['IsomericSMILES']\n",
    "snitz_3.drop(['CID', 'IsomericSMILES'], axis=1, inplace=True)"
   ]
  },
  {
   "cell_type": "code",
   "execution_count": 19,
   "metadata": {},
   "outputs": [],
   "source": [
    "snitz_3.to_csv(\"snitz3_jaccard.csv\", index=False)"
   ]
  }
 ],
 "metadata": {
  "kernelspec": {
   "display_name": "ml",
   "language": "python",
   "name": "python3"
  },
  "language_info": {
   "codemirror_mode": {
    "name": "ipython",
    "version": 3
   },
   "file_extension": ".py",
   "mimetype": "text/x-python",
   "name": "python",
   "nbconvert_exporter": "python",
   "pygments_lexer": "ipython3",
   "version": "3.10.13"
  }
 },
 "nbformat": 4,
 "nbformat_minor": 2
}
